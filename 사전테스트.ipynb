{
 "cells": [
  {
   "attachments": {},
   "cell_type": "markdown",
   "metadata": {},
   "source": [
    "1. word = [“school”, “game”, “piano”, “science”, “hotel”, “mountain”] 중 글자수가 6글자 이상인 문자를 모아 새로운 리스트를 생성하세요\n",
    "\n",
    "2. 구단을 1단부터 9단까지 출력하세요\n",
    "\n",
    "3. 사용자로부터 숫자를 계속 입력받다가 s or S를 입력하면 합계출력\n",
    "\n",
    " - ex) 값을 입력해주세요30\n",
    " - 값을 입력해주세요20\n",
    " - 값을 입력해주세요50\n",
    " - 값을 입력해주세요40\n",
    " - 값을 입력해주세요30\n",
    " - 값을 입력해주세요s\n",
    " - 합계는 ?  170\n",
    " \n",
    " 4. ‘students.txt’ 파일을 읽어서 딕셔너리로 학생들의 정보를 저장하라. 해당 파일은 이름, 국어점수, 영어점수, 수학점수 순으로 되어있으며, 각 컬럼의 구분자는 tab(\\t)으로 이루어져있다. 이름을 key로 하고, 국어점수, 영어점수, 수학점수를 순서대로 담은 리스트를 value로 하는 딕셔너리로 저장하라. (encoding을 주의하시오.)\n",
    " \n",
    "** 두가지를 이용하시오.(read,readlines) **\n",
    " "
   ]
  },
  {
   "cell_type": "markdown",
   "metadata": {},
   "source": [
    "4. 함수를 만들어 보세요\n",
    " - 이 함수는 두개의 숫자를 input으로 받으면 작은수로 큰 수를 나눈 몫과 나머지를 반환하는 함수이다.\n",
    " - 반환값은 튜플로 되어 있으며 몫, 나머지 순으로 되어 있다.\n",
    " - 단,0으로 나누는 것은 불가하기 때문에, 두 수 중에 작은 수가 0이라면 화면에 '0은 사용할 수 없습니다.' 출력하고 종료되어야 한다"
   ]
  },
  {
   "cell_type": "code",
   "execution_count": 1,
   "metadata": {},
   "outputs": [],
   "source": []
  },
  {
   "cell_type": "code",
   "execution_count": 2,
   "metadata": {},
   "outputs": [
    {
     "data": {
      "text/plain": [
       "(1, 2)"
      ]
     },
     "execution_count": 2,
     "metadata": {},
     "output_type": "execute_result"
    }
   ],
   "source": [
    "div2(3,5)"
   ]
  },
  {
   "cell_type": "code",
   "execution_count": 3,
   "metadata": {},
   "outputs": [
    {
     "name": "stdout",
     "output_type": "stream",
     "text": [
      "0은 사용할 수 없습니다.\n"
     ]
    }
   ],
   "source": [
    "div2(0,5)"
   ]
  },
  {
   "cell_type": "code",
   "execution_count": 4,
   "metadata": {},
   "outputs": [
    {
     "data": {
      "text/plain": [
       "(10, 0)"
      ]
     },
     "execution_count": 4,
     "metadata": {},
     "output_type": "execute_result"
    }
   ],
   "source": [
    "div2(10,1)"
   ]
  },
  {
   "cell_type": "markdown",
   "metadata": {},
   "source": [
    "5. 어떠한 string을 받으면 일정한 단위로 끊어서 화면에 출력하는 함수를 짜보자. 끝는 단위로 따로 정하지 않으면 2로 설정해보자.\n",
    "\n",
    "Hint : input을 string과 unit=2로 받고, while을 사용하고, 길이는 len 함수를 사용하도록 하자."
   ]
  },
  {
   "cell_type": "code",
   "execution_count": 5,
   "metadata": {},
   "outputs": [],
   "source": []
  },
  {
   "cell_type": "code",
   "execution_count": 6,
   "metadata": {},
   "outputs": [
    {
     "name": "stdout",
     "output_type": "stream",
     "text": [
      "테스\n",
      "트를\n",
      " 위\n",
      "한 \n",
      "문장\n",
      "입니\n",
      "다\n"
     ]
    }
   ],
   "source": [
    "func('테스트를 위한 문장입니다')"
   ]
  },
  {
   "cell_type": "code",
   "execution_count": 7,
   "metadata": {},
   "outputs": [
    {
     "name": "stdout",
     "output_type": "stream",
     "text": [
      "테스트를\n",
      " 위한 \n",
      "문장입니\n",
      "다\n"
     ]
    }
   ],
   "source": [
    "func('테스트를 위한 문장입니다',4)"
   ]
  },
  {
   "cell_type": "markdown",
   "metadata": {},
   "source": [
    "6. 다음과 같은 add_all 함수를 짜봅시다"
   ]
  },
  {
   "cell_type": "code",
   "execution_count": 9,
   "metadata": {},
   "outputs": [],
   "source": []
  },
  {
   "cell_type": "code",
   "execution_count": 10,
   "metadata": {},
   "outputs": [
    {
     "data": {
      "text/plain": [
       "55"
      ]
     },
     "execution_count": 10,
     "metadata": {},
     "output_type": "execute_result"
    }
   ],
   "source": [
    "add_all(1,2,3,4,5,6,7,8,9,10)"
   ]
  },
  {
   "attachments": {},
   "cell_type": "markdown",
   "metadata": {},
   "source": [
    "6 . 여기는 동네 유명한 빵집이다. 사람들에  게 먼저 온 순서대로 번호표를 나누어주려고 한다. 번호표를 나누어주는 함 수를 작성해보자.\n",
    "- 함수는 사람이름으로 되어 있는 리스트를 받아서 \"대기번호 x번 : 사람  이름\" 를 화면에 출력하고 (번호표, 사람이름)을 원소로 이루어진 리스  트를 반환한다.\n",
    "\n",
    "단, enumerate 함수를 쓰시오."
   ]
  },
  {
   "cell_type": "code",
   "execution_count": 12,
   "metadata": {},
   "outputs": [
    {
     "name": "stdout",
     "output_type": "stream",
     "text": [
      "대기번호 1번 : 펭수\n",
      "대기번호 2번 : 뽀로로\n",
      "대기번호 3번 : 뚝딱이\n",
      "대기번호 4번 : 텔레토비\n"
     ]
    }
   ],
   "source": []
  },
  {
   "attachments": {},
   "cell_type": "markdown",
   "metadata": {},
   "source": [
    "7. 컷트라인이 60점일때, 사람이름과 통과여부를 리스트로 담아서 출력  하라. 이름과 통과여부는 튜플로 묶어있는 자료이다. 다음과 같이 작성하시오.\n",
    "\n",
    "단, listcomprehension을 사용하시오."
   ]
  },
  {
   "cell_type": "code",
   "execution_count": 13,
   "metadata": {},
   "outputs": [],
   "source": [
    "students = {\"보라돌이\" : 61,\n",
    "            \"뚜비\" : 35,\n",
    "            \"나나\" : 78,\n",
    "            \"뽀\" : 88}"
   ]
  },
  {
   "cell_type": "code",
   "execution_count": 15,
   "metadata": {},
   "outputs": [
    {
     "data": {
      "text/plain": [
       "[('보라돌이', True), ('뚜비', False), ('나나', True), ('뽀', True)]"
      ]
     },
     "execution_count": 15,
     "metadata": {},
     "output_type": "execute_result"
    }
   ],
   "source": []
  },
  {
   "cell_type": "markdown",
   "metadata": {},
   "source": [
    "8. Human이라는 클래스를 만들어보자\n",
    " - Human 클래스는 아래와 같은 특징이 있다.\n",
    " - Human 클래스는 인스턴스 생성시 birth_date, sex, nation을 변수로 가지고 있다.\n",
    " - give_name은 인스턴스 메소드로 이름을 input으로 받아서 name이라는 인스턴스 변수로 저장하고 화면에 출력하는 역할을 하는 함수이다.\n",
    " - can_sing이라는 함수는 True/False 값을 input으로 받으며, '참'이면 'sing a song''을 화면에 출력하는 함수이다."
   ]
  },
  {
   "cell_type": "markdown",
   "metadata": {},
   "source": [
    "9. Human 이라는 클래스가 상속하는 Child라는 클래스를 만들어보자\n",
    "\n",
    " - Child의 클래스에는 아래와 같은 변수와 함수들이 추가된다\n",
    " - 눈동자 색깔을 나타내는 변수 eye를 인스턴스 선언시 사용할 수 있게 추가해보자\n",
    " - Child의 클래스는 노래하는 능력이 없다. 따라서 can__sing이라는 메소드가 호출되면 무조건 \"Can't Sing\"이고 출력하도록 바꿔보자.\n",
    " - Child는 노래 대신 춤을 출수 있다. can_dance라는 메소드가 호출되면 \"Dance Time!\"을 출력하도록 메소드를 작성해보자"
   ]
  },
  {
   "cell_type": "markdown",
   "metadata": {},
   "source": [
    "10. 1부터 입력받은 숫자 n사이에 있는 소수의 개수를 반환하는 함수, solution을 만들어 보세요.\n",
    "\n",
    "소수는 1과 자기 자신으로만 나누어지는 수를 의미합니다.(1은 소수가 아닙니다)"
   ]
  },
  {
   "cell_type": "markdown",
   "metadata": {},
   "source": [
    "11. 로또 번호 자동생성기를 작성하세요.(Numpy를 모르시면 random 모듈로도 구현가능)"
   ]
  },
  {
   "cell_type": "code",
   "execution_count": null,
   "metadata": {},
   "outputs": [],
   "source": []
  }
 ],
 "metadata": {
  "kernelspec": {
   "display_name": "Python 3",
   "language": "python",
   "name": "python3"
  },
  "language_info": {
   "codemirror_mode": {
    "name": "ipython",
    "version": 3
   },
   "file_extension": ".py",
   "mimetype": "text/x-python",
   "name": "python",
   "nbconvert_exporter": "python",
   "pygments_lexer": "ipython3",
   "version": "3.7.3"
  }
 },
 "nbformat": 4,
 "nbformat_minor": 2
}
