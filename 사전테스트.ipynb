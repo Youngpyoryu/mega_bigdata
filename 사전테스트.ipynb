{
 "cells": [
  {
   "cell_type": "markdown",
   "metadata": {},
   "source": [
    "#####  1. word = [“school”, “game”, “piano”, “science”, “hotel”, “mountain”] 중 글자수가 6글자 이상인 문자를 모아 새로운 리스트를 생성하세요\n",
    "\n",
    "#####  2. 구단을 1단부터 9단까지 출력하세요\n",
    "\n",
    "#####  3. 사용자로부터 숫자를 계속 입력받다가 s or S를 입력하면 합계출력\n",
    "\n",
    " - ex) 값을 입력해주세요30\n",
    " - 값을 입력해주세요20\n",
    " - 값을 입력해주세요50\n",
    " - 값을 입력해주세요40\n",
    " - 값을 입력해주세요30\n",
    " - 값을 입력해주세요s\n",
    " - 합계는 ?  170\n",
    " \n",
    "#####   4. ‘students.txt’ 파일을 읽어서 딕셔너리로 학생들의 정보를 저장하라. 해당 파일은 이름, 국어점수, 영어점수, 수학점수 순으로 되어있으며, 각 컬럼의 구분자는 tab(\\t)으로 이루어져있다. 이름을 key로 하고, 국어점수, 영어점수, 수학점수를 순서대로 담은 리스트를 value로 하는 딕셔너리로 저장하라. (encoding을 주의하시오.)\n",
    " \n",
    "** 두가지를 이용하시오.(read,readlines) **\n",
    " "
   ]
  },
  {
   "cell_type": "markdown",
   "metadata": {},
   "source": [
    "##### 4. 함수를 만들어 보세요\n",
    " - 이 함수는 두개의 숫자를 input으로 받으면 작은수로 큰 수를 나눈 몫과 나머지를 반환하는 함수이다.\n",
    " - 반환값은 튜플로 되어 있으며 몫, 나머지 순으로 되어 있다.\n",
    " - 단,0으로 나누는 것은 불가하기 때문에, 두 수 중에 작은 수가 0이라면 화면에 '0은 사용할 수 없습니다.' 출력하고 종료되어야 한다"
   ]
  },
  {
   "cell_type": "code",
   "execution_count": 1,
   "metadata": {},
   "outputs": [],
   "source": []
  },
  {
   "cell_type": "code",
   "execution_count": 2,
   "metadata": {},
   "outputs": [
    {
     "data": {
      "text/plain": [
       "(1, 2)"
      ]
     },
     "execution_count": 2,
     "metadata": {},
     "output_type": "execute_result"
    }
   ],
   "source": [
    "div2(3,5)"
   ]
  },
  {
   "cell_type": "code",
   "execution_count": 3,
   "metadata": {},
   "outputs": [
    {
     "name": "stdout",
     "output_type": "stream",
     "text": [
      "0은 사용할 수 없습니다.\n"
     ]
    }
   ],
   "source": [
    "div2(0,5)"
   ]
  },
  {
   "cell_type": "code",
   "execution_count": 4,
   "metadata": {},
   "outputs": [
    {
     "data": {
      "text/plain": [
       "(10, 0)"
      ]
     },
     "execution_count": 4,
     "metadata": {},
     "output_type": "execute_result"
    }
   ],
   "source": [
    "div2(10,1)"
   ]
  },
  {
   "cell_type": "markdown",
   "metadata": {},
   "source": [
    "5. 어떠한 string을 받으면 일정한 단위로 끊어서 화면에 출력하는 함수를 짜보자. 끝는 단위로 따로 정하지 않으면 2로 설정해보자.\n",
    "\n",
    "Hint : input을 string과 unit=2로 받고, while을 사용하고, 길이는 len 함수를 사용하도록 하자."
   ]
  },
  {
   "cell_type": "code",
   "execution_count": 5,
   "metadata": {},
   "outputs": [],
   "source": []
  },
  {
   "cell_type": "code",
   "execution_count": 6,
   "metadata": {},
   "outputs": [
    {
     "name": "stdout",
     "output_type": "stream",
     "text": [
      "테스\n",
      "트를\n",
      " 위\n",
      "한 \n",
      "문장\n",
      "입니\n",
      "다\n"
     ]
    }
   ],
   "source": [
    "func('테스트를 위한 문장입니다')"
   ]
  },
  {
   "cell_type": "code",
   "execution_count": 7,
   "metadata": {},
   "outputs": [
    {
     "name": "stdout",
     "output_type": "stream",
     "text": [
      "테스트를\n",
      " 위한 \n",
      "문장입니\n",
      "다\n"
     ]
    }
   ],
   "source": [
    "func('테스트를 위한 문장입니다',4)"
   ]
  },
  {
   "cell_type": "markdown",
   "metadata": {},
   "source": [
    "##### 6. 다음과 같은 add_all 함수를 짜봅시다"
   ]
  },
  {
   "cell_type": "code",
   "execution_count": 9,
   "metadata": {},
   "outputs": [],
   "source": []
  },
  {
   "cell_type": "code",
   "execution_count": 10,
   "metadata": {},
   "outputs": [
    {
     "data": {
      "text/plain": [
       "55"
      ]
     },
     "execution_count": 10,
     "metadata": {},
     "output_type": "execute_result"
    }
   ],
   "source": [
    "add_all(1,2,3,4,5,6,7,8,9,10)"
   ]
  },
  {
   "cell_type": "markdown",
   "metadata": {},
   "source": [
    "##### 6 . 여기는 동네 유명한 빵집이다. 사람들에  게 먼저 온 순서대로 번호표를 나누어주려고 한다. 번호표를 나누어주는 함 수를 작성해보자.\n",
    "- 함수는 사람이름으로 되어 있는 리스트를 받아서 \"대기번호 x번 : 사람  이름\" 를 화면에 출력하고 (번호표, 사람이름)을 원소로 이루어진 리스  트를 반환한다.\n",
    "\n",
    "단, enumerate 함수를 쓰시오."
   ]
  },
  {
   "cell_type": "code",
   "execution_count": 12,
   "metadata": {},
   "outputs": [
    {
     "name": "stdout",
     "output_type": "stream",
     "text": [
      "대기번호 1번 : 펭수\n",
      "대기번호 2번 : 뽀로로\n",
      "대기번호 3번 : 뚝딱이\n",
      "대기번호 4번 : 텔레토비\n"
     ]
    }
   ],
   "source": []
  },
  {
   "cell_type": "markdown",
   "metadata": {},
   "source": [
    "##### 7. 컷트라인이 60점일때, 사람이름과 통과여부를 리스트로 담아서 출력  하라. 이름과 통과여부는 튜플로 묶어있는 자료이다. 다음과 같이 작성하시오.\n",
    "\n",
    "단, listcomprehension을 사용하시오."
   ]
  },
  {
   "cell_type": "code",
   "execution_count": 13,
   "metadata": {},
   "outputs": [],
   "source": [
    "students = {\"보라돌이\" : 61,\n",
    "            \"뚜비\" : 35,\n",
    "            \"나나\" : 78,\n",
    "            \"뽀\" : 88}"
   ]
  },
  {
   "cell_type": "code",
   "execution_count": 15,
   "metadata": {},
   "outputs": [
    {
     "data": {
      "text/plain": [
       "[('보라돌이', True), ('뚜비', False), ('나나', True), ('뽀', True)]"
      ]
     },
     "execution_count": 15,
     "metadata": {},
     "output_type": "execute_result"
    }
   ],
   "source": []
  },
  {
   "cell_type": "markdown",
   "metadata": {},
   "source": [
    "##### 8. Human이라는 클래스를 만들어보자\n",
    " - Human 클래스는 아래와 같은 특징이 있다.\n",
    " - Human 클래스는 인스턴스 생성시 birth_date, sex, nation을 변수로 가지고 있다.\n",
    " - give_name은 인스턴스 메소드로 이름을 input으로 받아서 name이라는 인스턴스 변수로 저장하고 화면에 출력하는 역할을 하는 함수이다.\n",
    " - can_sing이라는 함수는 True/False 값을 input으로 받으며, '참'이면 'sing a song''을 화면에 출력하는 함수이다."
   ]
  },
  {
   "cell_type": "markdown",
   "metadata": {},
   "source": [
    "##### 9. Human 이라는 클래스가 상속하는 Child라는 클래스를 만들어보자\n",
    "\n",
    " - Child의 클래스에는 아래와 같은 변수와 함수들이 추가된다\n",
    " - 눈동자 색깔을 나타내는 변수 eye를 인스턴스 선언시 사용할 수 있게 추가해보자\n",
    " - Child의 클래스는 노래하는 능력이 없다. 따라서 can__sing이라는 메소드가 호출되면 무조건 \"Can't Sing\"이고 출력하도록 바꿔보자.\n",
    " - Child는 노래 대신 춤을 출수 있다. can_dance라는 메소드가 호출되면 \"Dance Time!\"을 출력하도록 메소드를 작성해보자"
   ]
  },
  {
   "cell_type": "markdown",
   "metadata": {},
   "source": [
    "##### 10. 1부터 입력받은 숫자 n사이에 있는 소수의 개수를 반환하는 함수, solution을 만들어 보세요.\n",
    "\n",
    "소수는 1과 자기 자신으로만 나누어지는 수를 의미합니다.(1은 소수가 아닙니다)"
   ]
  },
  {
   "cell_type": "markdown",
   "metadata": {},
   "source": [
    "##### 11. 로또 번호 자동생성기를 작성하세요.(Numpy를 모르시면 random 모듈로도 구현가능)"
   ]
  },
  {
   "cell_type": "markdown",
   "metadata": {},
   "source": [
    "##### 12. 어떤 정수 n에서 시작해, n이 짝수면 2로 나누고, 홀수면 3을 곱한 다음 1을 더한다. 이렇게 해서 새로 만들어진 숫자를 n으로 놓고, n=1 이 될때까지 같은 작업을 계속 반복한다. 예를 들어, n=22이면 다음과 같은 수열이 만들어진다.\n",
    "\n",
    "22 11 34 17 52 26 13 40 20 10 5 16 8 4 2 1\n",
    "\n",
    "n이라는 값이 입력되었을때 1이 나올때까지 만들어진 수의 개수(1을 포함)를 n의 사이클 길이라고 한다. 위에 있는 수열을 예로 들면 22의 사이클 길이는 16이다. i와 j라는 두개의 수가 주어졌을때, i와 j사이의 모든 수(i, j포함)에 대해 최대 사이클 길이를 구하라.\n",
    "\n",
    "입력 예\n",
    "\n",
    "1    10\n",
    "100  200\n",
    "201  210\n",
    "900  1000\n",
    "\n",
    "\n",
    "\n",
    "출력 예\n",
    "\n",
    "1    10    20\n",
    "100  200   125\n",
    "201  210   89\n",
    "900  1000  174\n"
   ]
  },
  {
   "cell_type": "markdown",
   "metadata": {},
   "source": [
    "##### 13.  이 문제의 핵심은 비트 연산을 얼마나 잘 이해하고 있냐이기 때문에 비트 연산으로 풀어주세요.\n",
    "\n",
    "input은 int n을 입력 받아 첫번째 row는 (n-1)의 O와 X, 두번째 row는 (n-2)의 O와 XX, 세번째 row는 (n-3)의 0와 XXX... n번째 row는 n의 X을 출력하시오.\n",
    "\n",
    "입력 예시: 6\n",
    "\n",
    "출력 예시:\n",
    "\n",
    "OOOOOX\n",
    "\n",
    "OOOOXX\n",
    "\n",
    "OOOXXX\n",
    "\n",
    "OOXXXX\n",
    "\n",
    "OXXXXX\n",
    "\n",
    "XXXXXX\n",
    "\n"
   ]
  },
  {
   "cell_type": "markdown",
   "metadata": {},
   "source": [
    "#### 14. 아래 조건에 따라 리스트를 회전하는 프로그램을 작성하시오.\n",
    "\n",
    "조건\n",
    "입력값은 한 행의 문자열로 주어지며, 각 값은 공백으로 구분된다.\n",
    "\n",
    "첫 번째 값은 리스트를 회전하는 양과 방향(음수의 경우 좌측으로, 양수의 경우 우측으로 회전)이다.\n",
    "\n",
    "첫 번째 값을 제외한 나머지 값은 리스트의 각 항목의 값이다.\n",
    "\n",
    "회전된 리스트를 문자열로 출력한다.\n",
    "\n",
    "구현에 이용할 자료구조에 대한 조건이나 제약은 없다.\n",
    "\n",
    "입력되는 리스트의 항목의 개수는 유한한다.\n",
    "\n",
    "입출력예\n",
    "예 1)\n",
    "\n",
    "입력: 1 10 20 30 40 50\n",
    "\n",
    "출력: 50 10 20 30 40\n",
    "\n",
    "예 2)\n",
    "\n",
    "입력: 4 가 나 다 라 마 바 사\n",
    "\n",
    "출력: 라 마 바 사 가 나 다\n",
    "\n",
    "예 3)\n",
    "\n",
    "입력: -2 A B C D E F G\n",
    "\n",
    "출력: C D E F G A B\n",
    "\n",
    "예 4)\n",
    "\n",
    "입력: 0 똘기 떵이 호치 새초미\n",
    "\n",
    "출력: 똘기 떵이 호치 새초미"
   ]
  },
  {
   "cell_type": "markdown",
   "metadata": {},
   "source": [
    "#### 15. 숫자 형태의 문자열을 콤마가 포함된 금액 표기식 문자열로 바꾸어주는 프로그램을 작성하시오.\n",
    "\n",
    "※ 단, 프로그래밍 언어에서 지원하는 금액변환 라이브러리는 사용하지 말것\n",
    "\n",
    "예)\n",
    "\n",
    "숫자\t 금액\n",
    "1000 ->\t1,000\n",
    "\n",
    "\n",
    "20000000 ->\t20,000,000\n",
    "\n",
    "\n",
    "-3245.24\t-> -3,245.24\n",
    "\n",
    "\n"
   ]
  },
  {
   "cell_type": "markdown",
   "metadata": {},
   "source": [
    "##### 16.약수를 모두 찾는 수학 문제를 풀다가 지친 X는 컴퓨터의 도움을 받아 문제를 풀어 보기로 하였다. 하지만 계산기를 이용하자니 계산기로 하고 싶지만 찾기도 어려우며, 쉽게 찾아낼 수도 없었다.\n",
    "\n",
    "풀이에 지친 그는 결국 약수들이 가지고 있는 특징을 찾아 결국 몇시간에 걸쳐 복잡한 수라도 약수를 찾아줄 수 있고 개수도 알려주는 프로그램을 짜게 된다.\n",
    "\n",
    "다음은 약수를 얻기 위한 입력과 출력 예제들이다.\n",
    "\n",
    "입력 1\n",
    "\n",
    "24\n",
    "출력 1\n",
    "\n",
    "{ 1, 2, 3, 4, 6, 8, 12, 24}\n",
    "약수의 개수는 8개 입니다.\n",
    "입력 2\n",
    "\n",
    "36\n",
    "출력 2\n",
    "\n",
    "{ 1, 2, 3, 4, 6, 9, 12, 18, 36 }\n",
    "약수의 개수는 9개 입니다.\n",
    "입력 3\n",
    "\n",
    "2468013579\n",
    "출력 3\n",
    "\n",
    "{ 1, 3, 9, 61, 183, 549, 4495471, 13486413, 40459239, 274223731, 822671193, 2468013579 }\n",
    "약수의 개수는 12개 입니다.\n",
    "사용한 소스코드를 풀이에 넣어 입력과 출력이 나왔음을 보이고,\n",
    "소스코드를 디버깅하여 123456789를 입력해 출력된 결과를 '{ a, b, ... } / 약수의 개수는 ~개 입니다' 형식으로 하시오."
   ]
  },
  {
   "cell_type": "markdown",
   "metadata": {},
   "source": [
    "#### 17. 아래와 같은 결과를 출력하는 function을 구현하라\n",
    "\n",
    "bool OneEditApart(string s1, string s2)\n",
    "\n",
    "OneEditApart(\"cat\", \"dog\") = false\n",
    "\n",
    "OneEditApart(\"cat\", \"cats\") = true \n",
    "\n",
    "OneEditApart(\"cat\", \"cut\") = true \n",
    "\n",
    "OneEditApart(\"cat\", \"cast\") = true \n",
    "\n",
    "OneEditApart(\"cat\", \"at\") = true\n",
    "\n",
    "OneEditApart(\"cat\", \"acts\") = false \n",
    "\n",
    "한개의 문자를 삽입, 제거, 변환을 했을때 s1, s2가 동일한지를 판별하는 OneEditApart 함수를 작성하시오."
   ]
  },
  {
   "cell_type": "markdown",
   "metadata": {},
   "source": [
    "#### 18. 문제\n",
    "일반적인 1부터 12까지 아라비아 숫자가 적혀있는 시계가 있습니다.\n",
    "이 시계는 오전 12:00 정각에 작동하기 시작하여 하루동안 움직이게 되어있습니다.\n",
    "이 때 시침과 분침이 직각이 될 때의 시간을 hh:mm 형태로 나타내고 하루동안 직각이 된 총 횟수를 구해보세요!\n",
    "\n",
    "출력(예시)\n",
    "09:00\n",
    "\n",
    "15:00\n",
    "\n",
    "...\n",
    "\n",
    "Total: n번!\n",
    "\n",
    "시간표현은 오전, 오후가 아닌 24시 방식으로 써주세요!"
   ]
  },
  {
   "cell_type": "code",
   "execution_count": null,
   "metadata": {},
   "outputs": [],
   "source": []
  }
 ],
 "metadata": {
  "kernelspec": {
   "display_name": "Python 3",
   "language": "python",
   "name": "python3"
  },
  "language_info": {
   "codemirror_mode": {
    "name": "ipython",
    "version": 3
   },
   "file_extension": ".py",
   "mimetype": "text/x-python",
   "name": "python",
   "nbconvert_exporter": "python",
   "pygments_lexer": "ipython3",
   "version": "3.7.3"
  }
 },
 "nbformat": 4,
 "nbformat_minor": 2
}
